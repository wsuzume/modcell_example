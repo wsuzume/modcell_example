{
 "cells": [
  {
   "cell_type": "code",
   "execution_count": 1,
   "metadata": {},
   "outputs": [],
   "source": [
    "# modcell: Mammals\n",
    "\n",
    "class Mammal:\n",
    "    def __init__(self):\n",
    "        self.response = 'Hello.'\n",
    "        \n",
    "    def hello(self):\n",
    "        print(self.response)\n",
    "\n",
    "class Dog(Mammal):\n",
    "    def __init__(self):\n",
    "        self.response = 'Henlo, gimme some food.'\n",
    "\n",
    "class Cat(Mammal):\n",
    "    def __init__(self):\n",
    "        self.response = 'Meowning.'"
   ]
  },
  {
   "cell_type": "code",
   "execution_count": 2,
   "metadata": {},
   "outputs": [
    {
     "name": "stdout",
     "output_type": "stream",
     "text": [
      "Hello.\n"
     ]
    }
   ],
   "source": [
    "mammal = Mammal()\n",
    "mammal.hello()"
   ]
  },
  {
   "cell_type": "code",
   "execution_count": 3,
   "metadata": {},
   "outputs": [
    {
     "name": "stdout",
     "output_type": "stream",
     "text": [
      "Henlo, gimme some food.\n"
     ]
    }
   ],
   "source": [
    "doggo = Dog()\n",
    "doggo.hello()"
   ]
  },
  {
   "cell_type": "code",
   "execution_count": 4,
   "metadata": {},
   "outputs": [
    {
     "name": "stdout",
     "output_type": "stream",
     "text": [
      "Meowning.\n"
     ]
    }
   ],
   "source": [
    "kitten = Cat()\n",
    "kitten.hello()"
   ]
  },
  {
   "cell_type": "code",
   "execution_count": 5,
   "metadata": {},
   "outputs": [],
   "source": [
    "# modcell: Birds\n",
    "\n",
    "class Bird:\n",
    "    def __init__(self):\n",
    "        self.response = 'Hello.'\n",
    "    \n",
    "    def hello(self):\n",
    "        print(self.response)\n",
    "\n",
    "class Pigeon(Bird):\n",
    "    def __init__(self):\n",
    "        self.response = 'Coo coo.'\n",
    "\n",
    "class Crow(Bird):\n",
    "    def __init__(self):\n",
    "        self.response = 'Caw!'"
   ]
  },
  {
   "cell_type": "code",
   "execution_count": 6,
   "metadata": {},
   "outputs": [
    {
     "name": "stdout",
     "output_type": "stream",
     "text": [
      "Coo coo.\n",
      "Caw!\n"
     ]
    }
   ],
   "source": [
    "Pigeon().hello()\n",
    "Crow().hello()"
   ]
  },
  {
   "cell_type": "code",
   "execution_count": 7,
   "metadata": {},
   "outputs": [],
   "source": [
    "# modcell: Reptiles\n",
    "\n",
    "class Reptile:\n",
    "    def __init__(self):\n",
    "        self.response = 'Hello.'\n",
    "        \n",
    "    def hello(self):\n",
    "        print(self.response)\n",
    "\n",
    "class Snake(Reptile):\n",
    "    def __init__(self):\n",
    "        self.response = 'Hiss.'\n",
    "\n",
    "class Crocodile(Reptile):\n",
    "    def __init__(self):\n",
    "        self.response = '...'"
   ]
  },
  {
   "cell_type": "code",
   "execution_count": 8,
   "metadata": {},
   "outputs": [
    {
     "name": "stdout",
     "output_type": "stream",
     "text": [
      "Hiss.\n",
      "...\n"
     ]
    }
   ],
   "source": [
    "Snake().hello()\n",
    "Crocodile().hello()"
   ]
  }
 ],
 "metadata": {
  "kernelspec": {
   "display_name": "Python 3",
   "language": "python",
   "name": "python3"
  },
  "language_info": {
   "codemirror_mode": {
    "name": "ipython",
    "version": 3
   },
   "file_extension": ".py",
   "mimetype": "text/x-python",
   "name": "python",
   "nbconvert_exporter": "python",
   "pygments_lexer": "ipython3",
   "version": "3.6.1"
  }
 },
 "nbformat": 4,
 "nbformat_minor": 4
}
