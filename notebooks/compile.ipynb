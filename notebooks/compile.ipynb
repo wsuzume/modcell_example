{
 "cells": [
  {
   "cell_type": "code",
   "execution_count": 1,
   "metadata": {},
   "outputs": [],
   "source": [
    "import modcell as mods"
   ]
  },
  {
   "cell_type": "code",
   "execution_count": 2,
   "metadata": {},
   "outputs": [],
   "source": [
    "import sys\n",
    "\n",
    "sys.path.append('../module_notebook')"
   ]
  },
  {
   "cell_type": "code",
   "execution_count": 3,
   "metadata": {},
   "outputs": [],
   "source": [
    "# if source_info is True, modcell export source code information to the output file, which is useful for debug\n",
    "source_info = True"
   ]
  },
  {
   "cell_type": "markdown",
   "metadata": {},
   "source": [
    "### Compile hello and fizzbuzz"
   ]
  },
  {
   "cell_type": "code",
   "execution_count": 4,
   "metadata": {},
   "outputs": [],
   "source": [
    "mod_useless = mods.ModCell()\n",
    "mod_useless._import('hello')\n",
    "mod_useless._import('fizzbuzz')\n",
    "with open('../module/useless.py', mode='w') as f:\n",
    "    mod_useless.compile(out=f, source_info = source_info)"
   ]
  },
  {
   "cell_type": "markdown",
   "metadata": {},
   "source": [
    "### Compile game and animmal (with sellective import)"
   ]
  },
  {
   "cell_type": "code",
   "execution_count": 5,
   "metadata": {},
   "outputs": [],
   "source": [
    "mod_funny = mods.ModCell()\n",
    "mod_funny._import('game')\n",
    "mod_funny._import('animal', tag='Mammals')\n",
    "mod_funny._import('animal', tag='Birds')\n",
    "with open('../module/funny.py', mode='w') as f:\n",
    "    mod_funny.compile(out=f, source_info = source_info)"
   ]
  },
  {
   "cell_type": "code",
   "execution_count": null,
   "metadata": {},
   "outputs": [],
   "source": []
  }
 ],
 "metadata": {
  "kernelspec": {
   "display_name": "Python 3",
   "language": "python",
   "name": "python3"
  },
  "language_info": {
   "codemirror_mode": {
    "name": "ipython",
    "version": 3
   },
   "file_extension": ".py",
   "mimetype": "text/x-python",
   "name": "python",
   "nbconvert_exporter": "python",
   "pygments_lexer": "ipython3",
   "version": "3.6.1"
  }
 },
 "nbformat": 4,
 "nbformat_minor": 4
}
